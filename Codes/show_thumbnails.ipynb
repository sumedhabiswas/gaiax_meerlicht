{
 "cells": [
  {
   "cell_type": "code",
   "execution_count": 1,
   "id": "compact-illinois",
   "metadata": {},
   "outputs": [
    {
     "name": "stderr",
     "output_type": "stream",
     "text": [
      "usage: ipykernel_launcher.py [-h] inputfile\n",
      "ipykernel_launcher.py: error: unrecognized arguments: -f\n"
     ]
    },
    {
     "ename": "SystemExit",
     "evalue": "2",
     "output_type": "error",
     "traceback": [
      "An exception has occurred, use %tb to see the full traceback.\n",
      "\u001b[0;31mSystemExit\u001b[0m\u001b[0;31m:\u001b[0m 2\n"
     ]
    },
    {
     "name": "stderr",
     "output_type": "stream",
     "text": [
      "/home/sumedha/jupyter_files/jupyter_env/lib/python3.8/site-packages/IPython/core/interactiveshell.py:3435: UserWarning: To exit: use 'exit', 'quit', or Ctrl-D.\n",
      "  warn(\"To exit: use 'exit', 'quit', or Ctrl-D.\", stacklevel=1)\n"
     ]
    }
   ],
   "source": [
    "import os\n",
    "import sys\n",
    "import argparse\n",
    "\n",
    "import numpy as np\n",
    "\n",
    "import astropy.io.fits as fits\n",
    "from astropy.visualization import ZScaleInterval as zscale\n",
    "\n",
    "import matplotlib\n",
    "import matplotlib.pyplot as plt\n",
    "\n",
    "def main():\n",
    "\n",
    "    parser = argparse.ArgumentParser(description='Show thumbnails from binary fits table')\n",
    "    parser.add_argument('inputfile', help='name binary fits file', type=str)\n",
    "    args = parser.parse_args()\n",
    "    \n",
    "    with fits.open(args.inputfile) as hdulist:\n",
    "        data = hdulist[-1].data\n",
    "\n",
    "    # show thumbnails\n",
    "    ndata = len(data)\n",
    "    for i_trans in range(ndata):\n",
    "        show_thumbs (data[i_trans])\n",
    "\n",
    "\n",
    "\n",
    "################################################################################\n",
    "\n",
    "def show_thumbs (data_row):\n",
    "        \n",
    "    fig=plt.figure(figsize=(16,7))\n",
    "    ncols, nrows = 4, 1\n",
    "    fields2show = ['THUMBNAIL_RED', 'THUMBNAIL_REF',\n",
    "                   'THUMBNAIL_D', 'THUMBNAIL_SCORR']\n",
    "    for ip in range (len(fields2show)):\n",
    "        data = data_row[fields2show[ip]]\n",
    "        vmin, vmax = zscale().get_limits(data)\n",
    "        fig.add_subplot(nrows, ncols, ip+1)\n",
    "        plt.imshow(data, vmin=vmin, vmax=vmax,\n",
    "                   interpolation='none', cmap='gist_heat',\n",
    "                   origin='lower')\n",
    "\n",
    "    plt.show()\n",
    "    plt.close()\n",
    "    \n",
    "################################################################################\n",
    "\n",
    "# from https://stackoverflow.com/questions/15008758/parsing-boolean-values-with-argparse\n",
    "def str2bool(v):\n",
    "    if isinstance(v, bool):\n",
    "        return v\n",
    "    if v.lower() in ('yes', 'true', 't', 'y', '1'):\n",
    "        return True\n",
    "    elif v.lower() in ('no', 'false', 'f', 'n', '0'):\n",
    "        return False\n",
    "    else:\n",
    "        raise argparse.ArgumentTypeError('Boolean value expected.')\n",
    "\n",
    "\n",
    "################################################################################\n",
    "\n",
    "if __name__ == \"__main__\":\n",
    "    main()    "
   ]
  },
  {
   "cell_type": "code",
   "execution_count": null,
   "id": "horizontal-insertion",
   "metadata": {},
   "outputs": [],
   "source": []
  }
 ],
 "metadata": {
  "kernelspec": {
   "display_name": "Python 3",
   "language": "python",
   "name": "python3"
  },
  "language_info": {
   "codemirror_mode": {
    "name": "ipython",
    "version": 3
   },
   "file_extension": ".py",
   "mimetype": "text/x-python",
   "name": "python",
   "nbconvert_exporter": "python",
   "pygments_lexer": "ipython3",
   "version": "3.8.10"
  },
  "vp": {
   "base_numbering": 1,
   "nav_menu": {},
   "number_sections": true,
   "sideBar": true,
   "title_cell": "VisualPython",
   "title_sidebar": "VisualPython",
   "vpPosition": {
    "height": "calc(100% - 180px)",
    "right": "10px",
    "top": "110px",
    "width": "50%"
   },
   "vp_cell": false,
   "vp_section_display": true,
   "vp_window_display": false
  }
 },
 "nbformat": 4,
 "nbformat_minor": 5
}
